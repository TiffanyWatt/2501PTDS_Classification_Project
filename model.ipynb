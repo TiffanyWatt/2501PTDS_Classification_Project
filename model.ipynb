{
 "cells": [
  {
   "cell_type": "markdown",
   "id": "72efd882",
   "metadata": {},
   "source": [
    "## 🧰 Importing Libraries and Preparing NLTK Resources\n",
    "\n",
    "This section loads the core Python libraries used for data handling, feature extraction, and model training, as well as the NLTK resources required for text preprocessing.\n",
    "\n",
    "### **Imports**\n",
    "- **pandas**, **numpy** — data manipulation and numerical operations.  \n",
    "- **re** — regular expressions for cleaning text.  \n",
    "- **nltk** — natural language toolkit for tokenization, stopwords, and lemmatization.  \n",
    "- **scikit-learn** modules:\n",
    "  - `TfidfVectorizer`, `CountVectorizer` — convert text into numerical vectors.\n",
    "  - `train_test_split` — split data into training and testing sets.\n",
    "  - `LogisticRegression` — build the baseline classification model.\n",
    "  - `accuracy_score`, `classification_report`, `confusion_matrix`, `f1_score` — evaluate model performance.\n",
    "  - `LabelEncoder` — convert text labels into numeric form.\n",
    "\n",
    "### **NLTK Downloads**\n",
    "The following lines ensure that all necessary linguistic datasets are available locally:\n",
    "```python\n",
    "nltk.download('punkt')\n",
    "nltk.download('wordnet')\n",
    "nltk.download('stopwords')\n",
    "nltk.download('omw-1.4')\n",
    "nltk.download('punkt_tab')"
   ]
  },
  {
   "cell_type": "code",
   "execution_count": 1,
   "id": "7e1cb512",
   "metadata": {},
   "outputs": [
    {
     "name": "stderr",
     "output_type": "stream",
     "text": [
      "[nltk_data] Downloading package punkt to\n",
      "[nltk_data]     C:\\Users\\twatt\\AppData\\Roaming\\nltk_data...\n",
      "[nltk_data]   Package punkt is already up-to-date!\n",
      "[nltk_data] Downloading package wordnet to\n",
      "[nltk_data]     C:\\Users\\twatt\\AppData\\Roaming\\nltk_data...\n",
      "[nltk_data]   Package wordnet is already up-to-date!\n",
      "[nltk_data] Downloading package stopwords to\n",
      "[nltk_data]     C:\\Users\\twatt\\AppData\\Roaming\\nltk_data...\n",
      "[nltk_data]   Package stopwords is already up-to-date!\n",
      "[nltk_data] Downloading package omw-1.4 to\n",
      "[nltk_data]     C:\\Users\\twatt\\AppData\\Roaming\\nltk_data...\n",
      "[nltk_data]   Package omw-1.4 is already up-to-date!\n",
      "[nltk_data] Downloading package punkt_tab to\n",
      "[nltk_data]     C:\\Users\\twatt\\AppData\\Roaming\\nltk_data...\n",
      "[nltk_data]   Package punkt_tab is already up-to-date!\n"
     ]
    },
    {
     "data": {
      "text/plain": [
       "True"
      ]
     },
     "execution_count": 1,
     "metadata": {},
     "output_type": "execute_result"
    }
   ],
   "source": [
    "import pandas as pd\n",
    "import numpy as np\n",
    "import re\n",
    "import nltk\n",
    "\n",
    "from sklearn.feature_extraction.text import TfidfVectorizer, CountVectorizer\n",
    "from sklearn.model_selection import train_test_split\n",
    "from sklearn.linear_model import LogisticRegression\n",
    "from sklearn.metrics import accuracy_score, classification_report, confusion_matrix, f1_score\n",
    "from sklearn.preprocessing import LabelEncoder\n",
    "\n",
    "from nltk.tokenize import word_tokenize\n",
    "from nltk.corpus import stopwords\n",
    "from nltk.stem import WordNetLemmatizer, PorterStemmer\n",
    "\n",
    "# Download necessary NLTK data\n",
    "nltk.download('punkt')\n",
    "nltk.download('wordnet')\n",
    "nltk.download('stopwords')\n",
    "nltk.download('omw-1.4')\n",
    "nltk.download('punkt_tab')\n"
   ]
  },
  {
   "cell_type": "markdown",
   "id": "5594e40d",
   "metadata": {},
   "source": [
    "## 📂 Loading and Inspecting the Dataset\n",
    "\n",
    "In this step, we load both the **training** and **testing** datasets, apply basic cleaning, and preview the first few rows to understand the structure.\n",
    "\n",
    "### **Code Overview**\n",
    "- The datasets are stored in the `Data/processed` folder as CSV files:\n",
    "  ```python\n",
    "  train = pd.read_csv(\"Data/processed/train.csv\")\n",
    "  test = pd.read_csv(\"Data/processed/test.csv\")"
   ]
  },
  {
   "cell_type": "code",
   "execution_count": 2,
   "id": "b2463721",
   "metadata": {},
   "outputs": [
    {
     "data": {
      "text/html": [
       "<div>\n",
       "<style scoped>\n",
       "    .dataframe tbody tr th:only-of-type {\n",
       "        vertical-align: middle;\n",
       "    }\n",
       "\n",
       "    .dataframe tbody tr th {\n",
       "        vertical-align: top;\n",
       "    }\n",
       "\n",
       "    .dataframe thead th {\n",
       "        text-align: right;\n",
       "    }\n",
       "</style>\n",
       "<table border=\"1\" class=\"dataframe\">\n",
       "  <thead>\n",
       "    <tr style=\"text-align: right;\">\n",
       "      <th></th>\n",
       "      <th>headlines</th>\n",
       "      <th>description</th>\n",
       "      <th>content</th>\n",
       "      <th>url</th>\n",
       "      <th>category</th>\n",
       "    </tr>\n",
       "  </thead>\n",
       "  <tbody>\n",
       "    <tr>\n",
       "      <th>0</th>\n",
       "      <td>RBI revises definition of politically-exposed ...</td>\n",
       "      <td>The central bank has also asked chairpersons a...</td>\n",
       "      <td>The Reserve Bank of India (RBI) has changed th...</td>\n",
       "      <td>https://indianexpress.com/article/business/ban...</td>\n",
       "      <td>business</td>\n",
       "    </tr>\n",
       "    <tr>\n",
       "      <th>1</th>\n",
       "      <td>NDTV Q2 net profit falls 57.4% to Rs 5.55 cror...</td>\n",
       "      <td>NDTV's consolidated revenue from operations wa...</td>\n",
       "      <td>Broadcaster New Delhi Television Ltd on Monday...</td>\n",
       "      <td>https://indianexpress.com/article/business/com...</td>\n",
       "      <td>business</td>\n",
       "    </tr>\n",
       "    <tr>\n",
       "      <th>2</th>\n",
       "      <td>Akasa Air ‘well capitalised’, can grow much fa...</td>\n",
       "      <td>The initial share sale will be open for public...</td>\n",
       "      <td>Homegrown server maker Netweb Technologies Ind...</td>\n",
       "      <td>https://indianexpress.com/article/business/mar...</td>\n",
       "      <td>business</td>\n",
       "    </tr>\n",
       "    <tr>\n",
       "      <th>3</th>\n",
       "      <td>India’s current account deficit declines sharp...</td>\n",
       "      <td>The current account deficit (CAD) was 3.8 per ...</td>\n",
       "      <td>India’s current account deficit declined sharp...</td>\n",
       "      <td>https://indianexpress.com/article/business/eco...</td>\n",
       "      <td>business</td>\n",
       "    </tr>\n",
       "    <tr>\n",
       "      <th>4</th>\n",
       "      <td>States borrowing cost soars to 7.68%, highest ...</td>\n",
       "      <td>The prices shot up reflecting the overall high...</td>\n",
       "      <td>States have been forced to pay through their n...</td>\n",
       "      <td>https://indianexpress.com/article/business/eco...</td>\n",
       "      <td>business</td>\n",
       "    </tr>\n",
       "  </tbody>\n",
       "</table>\n",
       "</div>"
      ],
      "text/plain": [
       "                                           headlines  \\\n",
       "0  RBI revises definition of politically-exposed ...   \n",
       "1  NDTV Q2 net profit falls 57.4% to Rs 5.55 cror...   \n",
       "2  Akasa Air ‘well capitalised’, can grow much fa...   \n",
       "3  India’s current account deficit declines sharp...   \n",
       "4  States borrowing cost soars to 7.68%, highest ...   \n",
       "\n",
       "                                         description  \\\n",
       "0  The central bank has also asked chairpersons a...   \n",
       "1  NDTV's consolidated revenue from operations wa...   \n",
       "2  The initial share sale will be open for public...   \n",
       "3  The current account deficit (CAD) was 3.8 per ...   \n",
       "4  The prices shot up reflecting the overall high...   \n",
       "\n",
       "                                             content  \\\n",
       "0  The Reserve Bank of India (RBI) has changed th...   \n",
       "1  Broadcaster New Delhi Television Ltd on Monday...   \n",
       "2  Homegrown server maker Netweb Technologies Ind...   \n",
       "3  India’s current account deficit declined sharp...   \n",
       "4  States have been forced to pay through their n...   \n",
       "\n",
       "                                                 url  category  \n",
       "0  https://indianexpress.com/article/business/ban...  business  \n",
       "1  https://indianexpress.com/article/business/com...  business  \n",
       "2  https://indianexpress.com/article/business/mar...  business  \n",
       "3  https://indianexpress.com/article/business/eco...  business  \n",
       "4  https://indianexpress.com/article/business/eco...  business  "
      ]
     },
     "metadata": {},
     "output_type": "display_data"
    },
    {
     "data": {
      "text/html": [
       "<div>\n",
       "<style scoped>\n",
       "    .dataframe tbody tr th:only-of-type {\n",
       "        vertical-align: middle;\n",
       "    }\n",
       "\n",
       "    .dataframe tbody tr th {\n",
       "        vertical-align: top;\n",
       "    }\n",
       "\n",
       "    .dataframe thead th {\n",
       "        text-align: right;\n",
       "    }\n",
       "</style>\n",
       "<table border=\"1\" class=\"dataframe\">\n",
       "  <thead>\n",
       "    <tr style=\"text-align: right;\">\n",
       "      <th></th>\n",
       "      <th>headlines</th>\n",
       "      <th>description</th>\n",
       "      <th>content</th>\n",
       "      <th>url</th>\n",
       "      <th>category</th>\n",
       "    </tr>\n",
       "  </thead>\n",
       "  <tbody>\n",
       "    <tr>\n",
       "      <th>0</th>\n",
       "      <td>NLC India wins contract for power supply to Ra...</td>\n",
       "      <td>State-owned firm NLC India Ltd (NLCIL) on Mond...</td>\n",
       "      <td>State-owned firm NLC India Ltd (NLCIL) on Mond...</td>\n",
       "      <td>https://indianexpress.com/article/business/com...</td>\n",
       "      <td>business</td>\n",
       "    </tr>\n",
       "    <tr>\n",
       "      <th>1</th>\n",
       "      <td>SBI Clerk prelims exams dates announced; admit...</td>\n",
       "      <td>SBI Clerk Prelims Exam: The SBI Clerk prelims ...</td>\n",
       "      <td>SBI Clerk Prelims Exam: The State Bank of Indi...</td>\n",
       "      <td>https://indianexpress.com/article/education/sb...</td>\n",
       "      <td>education</td>\n",
       "    </tr>\n",
       "    <tr>\n",
       "      <th>2</th>\n",
       "      <td>Golden Globes: Michelle Yeoh, Will Ferrell, An...</td>\n",
       "      <td>Barbie is the top nominee this year, followed ...</td>\n",
       "      <td>Michelle Yeoh, Will Ferrell, Angela Bassett an...</td>\n",
       "      <td>https://indianexpress.com/article/entertainmen...</td>\n",
       "      <td>entertainment</td>\n",
       "    </tr>\n",
       "    <tr>\n",
       "      <th>3</th>\n",
       "      <td>OnePlus Nord 3 at Rs 27,999 as part of new pri...</td>\n",
       "      <td>New deal makes the OnePlus Nord 3 an easy purc...</td>\n",
       "      <td>In our review of the OnePlus Nord 3 5G, we pra...</td>\n",
       "      <td>https://indianexpress.com/article/technology/t...</td>\n",
       "      <td>technology</td>\n",
       "    </tr>\n",
       "    <tr>\n",
       "      <th>4</th>\n",
       "      <td>Adani family’s partners used ‘opaque’ funds to...</td>\n",
       "      <td>Citing review of files from multiple tax haven...</td>\n",
       "      <td>Millions of dollars were invested in some publ...</td>\n",
       "      <td>https://indianexpress.com/article/business/ada...</td>\n",
       "      <td>business</td>\n",
       "    </tr>\n",
       "  </tbody>\n",
       "</table>\n",
       "</div>"
      ],
      "text/plain": [
       "                                           headlines  \\\n",
       "0  NLC India wins contract for power supply to Ra...   \n",
       "1  SBI Clerk prelims exams dates announced; admit...   \n",
       "2  Golden Globes: Michelle Yeoh, Will Ferrell, An...   \n",
       "3  OnePlus Nord 3 at Rs 27,999 as part of new pri...   \n",
       "4  Adani family’s partners used ‘opaque’ funds to...   \n",
       "\n",
       "                                         description  \\\n",
       "0  State-owned firm NLC India Ltd (NLCIL) on Mond...   \n",
       "1  SBI Clerk Prelims Exam: The SBI Clerk prelims ...   \n",
       "2  Barbie is the top nominee this year, followed ...   \n",
       "3  New deal makes the OnePlus Nord 3 an easy purc...   \n",
       "4  Citing review of files from multiple tax haven...   \n",
       "\n",
       "                                             content  \\\n",
       "0  State-owned firm NLC India Ltd (NLCIL) on Mond...   \n",
       "1  SBI Clerk Prelims Exam: The State Bank of Indi...   \n",
       "2  Michelle Yeoh, Will Ferrell, Angela Bassett an...   \n",
       "3  In our review of the OnePlus Nord 3 5G, we pra...   \n",
       "4  Millions of dollars were invested in some publ...   \n",
       "\n",
       "                                                 url       category  \n",
       "0  https://indianexpress.com/article/business/com...       business  \n",
       "1  https://indianexpress.com/article/education/sb...      education  \n",
       "2  https://indianexpress.com/article/entertainmen...  entertainment  \n",
       "3  https://indianexpress.com/article/technology/t...     technology  \n",
       "4  https://indianexpress.com/article/business/ada...       business  "
      ]
     },
     "metadata": {},
     "output_type": "display_data"
    }
   ],
   "source": [
    "train = pd.read_csv(\"Data/processed/train.csv\")\n",
    "test = pd.read_csv(\"Data/processed/test.csv\")\n",
    "\n",
    "# Applying our post inspection changes\n",
    "train.dropna(inplace=True)\n",
    "test.dropna(inplace=True)\n",
    "\n",
    "display(train.head(), test.head())"
   ]
  },
  {
   "cell_type": "code",
   "execution_count": 3,
   "id": "dc69085f",
   "metadata": {},
   "outputs": [
    {
     "data": {
      "text/html": [
       "<div>\n",
       "<style scoped>\n",
       "    .dataframe tbody tr th:only-of-type {\n",
       "        vertical-align: middle;\n",
       "    }\n",
       "\n",
       "    .dataframe tbody tr th {\n",
       "        vertical-align: top;\n",
       "    }\n",
       "\n",
       "    .dataframe thead th {\n",
       "        text-align: right;\n",
       "    }\n",
       "</style>\n",
       "<table border=\"1\" class=\"dataframe\">\n",
       "  <thead>\n",
       "    <tr style=\"text-align: right;\">\n",
       "      <th></th>\n",
       "      <th>data</th>\n",
       "      <th>category</th>\n",
       "    </tr>\n",
       "  </thead>\n",
       "  <tbody>\n",
       "    <tr>\n",
       "      <th>0</th>\n",
       "      <td>RBI revises definition of politically-exposed ...</td>\n",
       "      <td>business</td>\n",
       "    </tr>\n",
       "    <tr>\n",
       "      <th>1</th>\n",
       "      <td>NDTV Q2 net profit falls 57.4% to Rs 5.55 cror...</td>\n",
       "      <td>business</td>\n",
       "    </tr>\n",
       "    <tr>\n",
       "      <th>2</th>\n",
       "      <td>Akasa Air ‘well capitalised’, can grow much fa...</td>\n",
       "      <td>business</td>\n",
       "    </tr>\n",
       "    <tr>\n",
       "      <th>3</th>\n",
       "      <td>India’s current account deficit declines sharp...</td>\n",
       "      <td>business</td>\n",
       "    </tr>\n",
       "    <tr>\n",
       "      <th>4</th>\n",
       "      <td>States borrowing cost soars to 7.68%, highest ...</td>\n",
       "      <td>business</td>\n",
       "    </tr>\n",
       "  </tbody>\n",
       "</table>\n",
       "</div>"
      ],
      "text/plain": [
       "                                                data  category\n",
       "0  RBI revises definition of politically-exposed ...  business\n",
       "1  NDTV Q2 net profit falls 57.4% to Rs 5.55 cror...  business\n",
       "2  Akasa Air ‘well capitalised’, can grow much fa...  business\n",
       "3  India’s current account deficit declines sharp...  business\n",
       "4  States borrowing cost soars to 7.68%, highest ...  business"
      ]
     },
     "metadata": {},
     "output_type": "display_data"
    },
    {
     "data": {
      "text/html": [
       "<div>\n",
       "<style scoped>\n",
       "    .dataframe tbody tr th:only-of-type {\n",
       "        vertical-align: middle;\n",
       "    }\n",
       "\n",
       "    .dataframe tbody tr th {\n",
       "        vertical-align: top;\n",
       "    }\n",
       "\n",
       "    .dataframe thead th {\n",
       "        text-align: right;\n",
       "    }\n",
       "</style>\n",
       "<table border=\"1\" class=\"dataframe\">\n",
       "  <thead>\n",
       "    <tr style=\"text-align: right;\">\n",
       "      <th></th>\n",
       "      <th>data</th>\n",
       "      <th>category</th>\n",
       "    </tr>\n",
       "  </thead>\n",
       "  <tbody>\n",
       "    <tr>\n",
       "      <th>0</th>\n",
       "      <td>NLC India wins contract for power supply to Ra...</td>\n",
       "      <td>business</td>\n",
       "    </tr>\n",
       "    <tr>\n",
       "      <th>1</th>\n",
       "      <td>SBI Clerk prelims exams dates announced; admit...</td>\n",
       "      <td>education</td>\n",
       "    </tr>\n",
       "    <tr>\n",
       "      <th>2</th>\n",
       "      <td>Golden Globes: Michelle Yeoh, Will Ferrell, An...</td>\n",
       "      <td>entertainment</td>\n",
       "    </tr>\n",
       "    <tr>\n",
       "      <th>3</th>\n",
       "      <td>OnePlus Nord 3 at Rs 27,999 as part of new pri...</td>\n",
       "      <td>technology</td>\n",
       "    </tr>\n",
       "    <tr>\n",
       "      <th>4</th>\n",
       "      <td>Adani family’s partners used ‘opaque’ funds to...</td>\n",
       "      <td>business</td>\n",
       "    </tr>\n",
       "  </tbody>\n",
       "</table>\n",
       "</div>"
      ],
      "text/plain": [
       "                                                data       category\n",
       "0  NLC India wins contract for power supply to Ra...       business\n",
       "1  SBI Clerk prelims exams dates announced; admit...      education\n",
       "2  Golden Globes: Michelle Yeoh, Will Ferrell, An...  entertainment\n",
       "3  OnePlus Nord 3 at Rs 27,999 as part of new pri...     technology\n",
       "4  Adani family’s partners used ‘opaque’ funds to...       business"
      ]
     },
     "metadata": {},
     "output_type": "display_data"
    }
   ],
   "source": [
    "train['data'] = train['headlines'] + ' ' + train['content']\n",
    "test['data'] = test['headlines'] + ' ' + test['content']\n",
    "\n",
    "train = train[['data', 'category']]\n",
    "test = test[['data', 'category']]\n",
    "\n",
    "display(train.head(), test.head())"
   ]
  },
  {
   "cell_type": "markdown",
   "id": "93e58840",
   "metadata": {},
   "source": [
    "## 🧼 Refined Text Cleaning and Preprocessing\n",
    "\n",
    "This function standardizes and cleans each news article before it’s fed into the model.  \n",
    "It expands on the model version by adding contraction handling, smarter regex cleanup, and improved token filtering.\n",
    "\n",
    "### 🧠 Why These Steps Matter\n",
    "\n",
    "- **Removes noise** such as URLs, hashtags, and symbols that don’t add meaning.  \n",
    "- **Handles contractions** (“don’t” → “do not”) to retain grammatical intent.  \n",
    "- **Keeps digits** since numbers can be meaningful in financial or tech news.  \n",
    "- **Preserves negations** like “not_good” to help the model understand sentiment and tone.  \n",
    "- **Lemmatizes tokens** to reduce variations of the same word (e.g., “runs”, “running” → “run”).  \n",
    "- **Filters stopwords and normalizes spaces** for a cleaner, standardized text dataset.  \n",
    "\n",
    "---\n",
    "\n",
    "### 🚀 Why This Is an Improvement\n",
    "\n",
    "Compared to earlier preprocessing versions, this refined approach:\n",
    "\n",
    "- **Expands contractions**, improving text clarity and readability.  \n",
    "- **Retains numerals** that often carry value in business, tech, and quantitative news.  \n",
    "- **Uses compiled regex patterns** for faster, more efficient text cleaning.  \n",
    "- **Produces more consistent and lower-noise text**, giving the TF-IDF vectorizer higher-quality input.  \n",
    "\n",
    "Overall, this version ensures the model learns from **meaningful, normalized language patterns**, which enhances both **accuracy** and **generalization**."
   ]
  },
  {
   "cell_type": "code",
   "execution_count": 4,
   "id": "a6daa482",
   "metadata": {},
   "outputs": [],
   "source": [
    "clean_urls = re.compile(r\"http\\S+|www\\S+|@\\w+|#\\w+\")\n",
    "keep_alnum = re.compile(r\"[^a-z0-9\\s]\")\n",
    "spaces = re.compile(r\"\\s+\")\n",
    "\n",
    "lemmatizer = WordNetLemmatizer()\n",
    "stop_words = set(stopwords.words('english'))\n",
    "\n",
    "def process_text_pro(text: str) -> str:\n",
    "    t = text.lower()\n",
    "    t = clean_urls.sub(\" \", t)\n",
    "    # normalize simple contractions\n",
    "    t = re.sub(r\"n['’]t\\b\", \" not\", t)\n",
    "    t = re.sub(r\"['’]re\\b\", \" are\", t)\n",
    "    t = re.sub(r\"['’]ve\\b\", \" have\", t)\n",
    "    # keep digits; strip other symbols\n",
    "    t = keep_alnum.sub(\" \", t)\n",
    "    # bind simple negations\n",
    "    t = re.sub(r\"\\b(not|no|never)\\s+(\\w+)\", r\"\\1_\\2\", t)\n",
    "    t = spaces.sub(\" \", t).strip()\n",
    "\n",
    "    toks = word_tokenize(t)\n",
    "    toks = [w for w in toks if w not in stop_words and len(w) > 1]\n",
    "    toks = [lemmatizer.lemmatize(w) for w in toks]\n",
    "    return \" \".join(toks)\n",
    "\n",
    "# apply\n",
    "train['data'] = train['data'].apply(process_text_pro)\n",
    "test['data']  = test['data'].apply(process_text_pro)"
   ]
  },
  {
   "cell_type": "markdown",
   "id": "5fc52e35",
   "metadata": {},
   "source": [
    "## 🔠 TF-IDF Vectorization and Logistic Regression Training\n",
    "\n",
    "This section converts the cleaned text data into numerical form using **TF-IDF** (Term Frequency–Inverse Document Frequency) and trains a **Logistic Regression** model to classify news articles by category.\n",
    "\n",
    "### 🧠 Why These Steps Matter\n",
    "\n",
    "- **TF-IDF Vectorization** transforms text into numerical features that reflect how important each word is relative to all documents.  \n",
    "- **Unigrams** capture single words.  \n",
    "- **Bigrams** capture short phrases, improving contextual understanding.  \n",
    "- `max_features=5000` limits the vocabulary size to the most informative terms.  \n",
    "- **Logistic Regression** is a strong, interpretable baseline model for text classification — fast to train, easy to regularize, and often competitive with more complex algorithms.  \n",
    "- **Model evaluation** uses both training and validation accuracy, along with a classification report, to highlight precision, recall, and F1-score for each category.  \n",
    "\n",
    "---\n",
    "\n",
    "### 🎯 Outcome\n",
    "\n",
    "By the end of this step:\n",
    "- The model has learned **word- and phrase-based patterns** that distinguish categories (e.g., *business*, *technology*, *sports*).  \n",
    "- You can measure how well the classifier generalizes to unseen test data through its **validation accuracy** and **per-category performance metrics**."
   ]
  },
  {
   "cell_type": "code",
   "execution_count": 5,
   "id": "8f8b2f18",
   "metadata": {},
   "outputs": [
    {
     "name": "stdout",
     "output_type": "stream",
     "text": [
      "TF-IDF Matrix Shape: (5520, 5000)\n",
      "Vocabulary: ['00' '000' '000 crore' ... 'zoom' 'zoya' 'zoya akhtar']\n",
      "Training Accuracy: 0.99\n",
      "Validation Accuracy: 0.98\n",
      "Classification Report:\n",
      "                precision    recall  f1-score   support\n",
      "\n",
      "     business       0.98      0.96      0.97       400\n",
      "    education       1.00      0.99      0.99       400\n",
      "entertainment       1.00      0.99      0.99       400\n",
      "   technology       0.99      0.98      0.99       400\n",
      "       sports       0.94      0.98      0.96       400\n",
      "\n",
      "     accuracy                           0.98      2000\n",
      "    macro avg       0.98      0.98      0.98      2000\n",
      " weighted avg       0.98      0.98      0.98      2000\n",
      "\n"
     ]
    }
   ],
   "source": [
    "X_train = train['data']\n",
    "y_train = train['category']\n",
    "\n",
    "X_test = test['data']\n",
    "y_test = test['category']\n",
    "\n",
    "\n",
    "# Initialise TfidfVectorizer\n",
    "tfidf_vectorizer = TfidfVectorizer(max_features=5000, ngram_range=(1, 2))  # Unigrams and bigrams; adjust max_features as needed\n",
    "\n",
    "# Fit and transform the text data\n",
    "X_tfidf = tfidf_vectorizer.fit_transform(X_train)\n",
    "Xt_tfidf = tfidf_vectorizer.transform(X_test)\n",
    "\n",
    "# Display the shape of the resulting sparse matrix\n",
    "print(f\"TF-IDF Matrix Shape: {X_tfidf.shape}\")\n",
    "\n",
    "# Display the vocabulary (optional)\n",
    "print(\"Vocabulary:\", tfidf_vectorizer.get_feature_names_out())\n",
    "\n",
    "# Initialise the Logistic Regression model\n",
    "model = LogisticRegression(max_iter=1000, random_state=42)\n",
    "\n",
    "# Train the model on the training set\n",
    "model.fit(X_tfidf, y_train)\n",
    "\n",
    "# Print training accuracy\n",
    "train_accuracy = model.score(X_tfidf, y_train)\n",
    "print(f\"Training Accuracy: {train_accuracy:.2f}\")\n",
    "\n",
    "# Make predictions on the validation set\n",
    "y_pred = model.predict(Xt_tfidf)\n",
    "\n",
    "# Compute validation accuracy\n",
    "test_accuracy = accuracy_score(y_test, y_pred)\n",
    "print(f\"Validation Accuracy: {test_accuracy:.2f}\")\n",
    "\n",
    "# Generate a classification report\n",
    "print(\"Classification Report:\\n\", classification_report(y_test, y_pred, target_names=y_test.unique()))"
   ]
  },
  {
   "cell_type": "markdown",
   "id": "f97308c2",
   "metadata": {},
   "source": [
    "## 📊 Confusion Matrix: Evaluating Model Performance\n",
    "\n",
    "The confusion matrix helps visualize how well the classifier distinguishes between different news categories by comparing **actual labels** with **predicted labels**.\n",
    "\n",
    "### 🧩 Why This Step Matters\n",
    "\n",
    "- A **confusion matrix** breaks down the model’s predictions by category, showing where it performs well and where it misclassifies.  \n",
    "- Each **row** represents the true category, while each **column** represents the predicted category.  \n",
    "- Darker diagonal cells indicate **correct predictions** — the more concentrated the diagonal, the better the model’s accuracy.  \n",
    "- Off-diagonal cells reveal **misclassifications**, helping you identify overlapping or confusing categories (e.g., *business* vs *technology*).  \n",
    "\n",
    "---\n",
    "\n",
    "### 🎯 Outcome\n",
    "\n",
    "This visualization provides a quick diagnostic view of:\n",
    "- Which categories are consistently predicted correctly.  \n",
    "- Which categories the model struggles to differentiate.  \n",
    "- Potential areas for improvement, such as adding more data or refining preprocessing for certain topics.  "
   ]
  },
  {
   "cell_type": "code",
   "execution_count": 6,
   "id": "7d9c7418",
   "metadata": {},
   "outputs": [
    {
     "data": {
      "image/png": "[encoded data removed]",
      "text/plain": [
       "<Figure size 800x600 with 2 Axes>"
      ]
     },
     "metadata": {},
     "output_type": "display_data"
    }
   ],
   "source": [
    "# 📊 Confusion Matrix Visualization\n",
    "import matplotlib.pyplot as plt\n",
    "from sklearn.metrics import confusion_matrix, ConfusionMatrixDisplay\n",
    "\n",
    "# Compute confusion matrix\n",
    "cm = confusion_matrix(y_test, y_pred, labels=model.classes_)\n",
    "\n",
    "# Create and plot the confusion matrix\n",
    "disp = ConfusionMatrixDisplay(confusion_matrix=cm, display_labels=model.classes_)\n",
    "fig, ax = plt.subplots(figsize=(8, 6))\n",
    "disp.plot(cmap=\"Blues\", ax=ax, xticks_rotation=45)\n",
    "plt.title(\"Confusion Matrix - News Category Classification\")\n",
    "plt.xlabel(\"Predicted Label\")\n",
    "plt.ylabel(\"True Label\")\n",
    "plt.show()"
   ]
  },
  {
   "cell_type": "markdown",
   "id": "70b60a95",
   "metadata": {},
   "source": [
    "## 💾 Saving the Model and TF-IDF Vectorizer\n",
    "\n",
    "After training the classifier, both the **Logistic Regression model** and the **TF-IDF vectorizer** are saved together in a single pickle file.  \n",
    "This makes it easy to reload them later for inference without retraining."
   ]
  },
  {
   "cell_type": "code",
   "execution_count": 7,
   "id": "d144fb4f",
   "metadata": {},
   "outputs": [
    {
     "name": "stdout",
     "output_type": "stream",
     "text": [
      "Saved -> pickled_files/model_and_vectorizer.pkl\n"
     ]
    }
   ],
   "source": [
    "import pickle\n",
    "\n",
    "with open('pickled_files/model_and_vectorizer.pkl', 'wb') as f:\n",
    "    pickle.dump({'model': model, 'vectorizer': tfidf_vectorizer}, f)\n",
    "\n",
    "print(\"Saved -> pickled_files/model_and_vectorizer.pkl\")"
   ]
  },
  {
   "cell_type": "markdown",
   "id": "65aafab8",
   "metadata": {},
   "source": [
    "## 📊 Tracking the Model with MLflow\n",
    "\n",
    "**MLflow** is used to record model parameters, metrics, and artifacts during training.  \n",
    "It helps organize experiments, compare model versions, and maintain a complete history of how each model was built and evaluated.\n",
    "\n",
    "---\n",
    "\n",
    "### **Why This Step Matters**\n",
    "\n",
    "- **Tracks Experiments Automatically** – MLflow logs each training run, capturing parameters like TF-IDF settings and model type.  \n",
    "- **Logs Performance Metrics** – Key results such as training and validation accuracy are saved for future comparison.  \n",
    "- **Stores Artifacts** – Both the trained model and the pickle file are stored as downloadable artifacts.  \n",
    "- **Supports Model Versioning** – MLflow automatically registers models, assigning version numbers (e.g., *Version 1*).  \n",
    "- **Ensures Reproducibility** – Every run can be revisited and exactly replicated later, making it easier to debug or deploy models.\n",
    "\n",
    "---\n",
    "\n",
    "### **Outcome**\n",
    "\n",
    "- The trained model is logged and registered under the name **`NewsCategoryClassifier`** in the MLflow registry.  \n",
    "- Parameters (`tfidf_max_features`, `ngram_range`, `max_iter`) and metrics (`train_accuracy`, `test_accuracy`) are stored for future reference.  \n",
    "- A pickle file containing the model and TF-IDF vectorizer is attached to the run for manual reuse if needed.  "
   ]
  },
  {
   "cell_type": "code",
   "execution_count": 9,
   "id": "363f69dc",
   "metadata": {},
   "outputs": [
    {
     "name": "stderr",
     "output_type": "stream",
     "text": [
      "2025/10/08 15:12:51 WARNING mlflow.models.model: `artifact_path` is deprecated. Please use `name` instead.\n",
      "2025/10/08 15:13:04 WARNING mlflow.models.model: Model logged without a signature and input example. Please set `input_example` parameter when logging the model to auto infer the model signature.\n",
      "Successfully registered model 'NewsCategoryClassifier'.\n",
      "Created version '1' of model 'NewsCategoryClassifier'.\n"
     ]
    },
    {
     "name": "stdout",
     "output_type": "stream",
     "text": [
      "Logged run to MLflow.\n"
     ]
    }
   ],
   "source": [
    "# If MLflow isn't installed yet: pip install mlflow\n",
    "import mlflow\n",
    "import mlflow.sklearn\n",
    "\n",
    "mlflow.set_experiment(\"news_classification\")\n",
    "\n",
    "with mlflow.start_run(run_name=\"tfidf_logreg_baseline\"):\n",
    "    # Log key parameters\n",
    "    mlflow.log_param(\"tfidf_max_features\", 5000)\n",
    "    mlflow.log_param(\"tfidf_ngram_range\", \"(1,2)\")\n",
    "    mlflow.log_param(\"model_type\", \"LogisticRegression\")\n",
    "    mlflow.log_param(\"max_iter\", 1000)\n",
    "\n",
    "    # Log metrics\n",
    "    mlflow.log_metric(\"train_accuracy\", float(train_accuracy))\n",
    "    mlflow.log_metric(\"test_accuracy\", float(test_accuracy))\n",
    "\n",
    "    # Log the trained model\n",
    "    mlflow.sklearn.log_model(\n",
    "        sk_model=model,\n",
    "        artifact_path=\"model\",\n",
    "        registered_model_name=\"NewsCategoryClassifier\"\n",
    "    )\n",
    "\n",
    "    # Log your saved pickle file (optional)\n",
    "    mlflow.log_artifact(\"pickled_files/model_and_vectorizer.pkl\", artifact_path=\"pickle\")\n",
    "\n",
    "print(\"Logged run to MLflow.\")"
   ]
  },
  {
   "cell_type": "code",
   "execution_count": null,
   "id": "ff33aea1",
   "metadata": {},
   "outputs": [],
   "source": [
    "input_text = input(\"Shares rise after RBI policy; Sensex closes higher\")"
   ]
  },
  {
   "cell_type": "code",
   "execution_count": null,
   "id": "cf95ab36",
   "metadata": {},
   "outputs": [
    {
     "data": {
      "text/plain": [
       "''"
      ]
     },
     "execution_count": 16,
     "metadata": {},
     "output_type": "execute_result"
    }
   ],
   "source": [
    "pt= process_text_pro(input_text)\n",
    "pt"
   ]
  },
  {
   "cell_type": "code",
   "execution_count": null,
   "id": "af9ddf8a",
   "metadata": {},
   "outputs": [],
   "source": [
    "vect_t = tfidf_vectorizer.transform([pt])"
   ]
  },
  {
   "cell_type": "code",
   "execution_count": null,
   "id": "14d359ac",
   "metadata": {},
   "outputs": [
    {
     "data": {
      "text/plain": [
       "<Compressed Sparse Row sparse matrix of dtype 'float64'\n",
       "\twith 0 stored elements and shape (1, 5000)>"
      ]
     },
     "execution_count": 18,
     "metadata": {},
     "output_type": "execute_result"
    }
   ],
   "source": [
    "vect_t"
   ]
  },
  {
   "cell_type": "code",
   "execution_count": null,
   "id": "e47e84ab",
   "metadata": {},
   "outputs": [
    {
     "data": {
      "text/plain": [
       "array(['technology'], dtype=object)"
      ]
     },
     "execution_count": 19,
     "metadata": {},
     "output_type": "execute_result"
    }
   ],
   "source": [
    "model.predict(vect_t)"
   ]
  },
  {
   "cell_type": "code",
   "execution_count": null,
   "id": "b07cd7af",
   "metadata": {},
   "outputs": [
    {
     "name": "stdout",
     "output_type": "stream",
     "text": [
      "['technology']\n"
     ]
    }
   ],
   "source": [
    "breaker = True\n",
    "\n",
    "while breaker:\n",
    "    input_text = input(\"Enter Text to Classify, Enter End/Quit to end program\")\n",
    "\n",
    "    if input_text.lower() == \"end\" or input_text.lower() == \"quit\":\n",
    "        break\n",
    "    else:\n",
    "        pt = process_text_pro(input_text)\n",
    "        vect_t = tfidf_vectorizer.transform([pt])\n",
    "        p_class = model.predict(vect_t)\n",
    "        print(p_class)\n",
    "\n"
   ]
  },
  {
   "cell_type": "code",
   "execution_count": 11,
   "id": "b5917719",
   "metadata": {},
   "outputs": [
    {
     "name": "stdout",
     "output_type": "stream",
     "text": [
      "On branch main\n",
      "Your branch is up to date with 'origin/main'.\n",
      "\n",
      "Changes not staged for commit:\n",
      "  (use \"git add <file>...\" to update what will be committed)\n",
      "  (use \"git restore <file>...\" to discard changes in working directory)\n",
      "\tmodified:   pickled_files/model_and_vectorizer.pkl\n",
      "\n",
      "Untracked files:\n",
      "  (use \"git add <file>...\" to include in what will be committed)\n",
      "\tmlruns/\n",
      "\tmodel_updated.ipynb\n",
      "\n",
      "no changes added to commit (use \"git add\" and/or \"git commit -a\")\n",
      "branch 'main' set up to track 'origin/main'.\n"
     ]
    },
    {
     "name": "stderr",
     "output_type": "stream",
     "text": [
      "Everything up-to-date\n"
     ]
    }
   ],
   "source": [
    "!git add model.ipynb\n",
    "!git commit -m \"Updating markdowns, adding MLflow\"\n",
    "!git push -u origin main"
   ]
  }
 ],
 "metadata": {
  "kernelspec": {
   "display_name": "Python 3",
   "language": "python",
   "name": "python3"
  },
  "language_info": {
   "codemirror_mode": {
    "name": "ipython",
    "version": 3
   },
   "file_extension": ".py",
   "mimetype": "text/x-python",
   "name": "python",
   "nbconvert_exporter": "python",
   "pygments_lexer": "ipython3",
   "version": "3.11.7"
  }
 },
 "nbformat": 4,
 "nbformat_minor": 5
}
